{
 "cells": [
  {
   "cell_type": "code",
   "execution_count": null,
   "metadata": {},
   "outputs": [],
   "source": [
    "# setup the MCP2221\n",
    "import os\n",
    "os.environ[\"BLINKA_MCP2221\"] = \"1\""
   ]
  },
  {
   "cell_type": "code",
   "execution_count": null,
   "metadata": {},
   "outputs": [],
   "source": [
    "import board\n",
    "dir(board)"
   ]
  },
  {
   "cell_type": "code",
   "execution_count": null,
   "metadata": {},
   "outputs": [],
   "source": [
    "import digitalio\n",
    "\n",
    "g0_output = digitalio.DigitalInOut(board.G0)\n",
    "g0_output.direction = digitalio.Direction.OUTPUT\n",
    "g0_output.value = True"
   ]
  },
  {
   "cell_type": "code",
   "execution_count": 3,
   "metadata": {},
   "outputs": [
    {
     "data": {
      "text/plain": [
       "True"
      ]
     },
     "execution_count": 3,
     "metadata": {},
     "output_type": "execute_result"
    }
   ],
   "source": [
    "# comparison operators\n",
    "# ==, !=, >, <, >=, <=, <>\n",
    "num = 123\n",
    "num == 123"
   ]
  },
  {
   "cell_type": "code",
   "execution_count": 4,
   "metadata": {},
   "outputs": [
    {
     "data": {
      "text/plain": [
       "True"
      ]
     },
     "execution_count": 4,
     "metadata": {},
     "output_type": "execute_result"
    }
   ],
   "source": [
    "# boolean values\n",
    "# True / False\n",
    "boolean = True\n",
    "boolean"
   ]
  },
  {
   "cell_type": "code",
   "execution_count": 8,
   "metadata": {},
   "outputs": [
    {
     "name": "stdout",
     "output_type": "stream",
     "text": [
      "False\n",
      "True\n",
      "False\n",
      "True\n"
     ]
    }
   ],
   "source": [
    "# comparison compound operators\n",
    "# and, or, not\n",
    "print(True and False)\n",
    "print(True or False)\n",
    "print(not True)\n",
    "print(True or not False and not True)"
   ]
  },
  {
   "cell_type": "code",
   "execution_count": 13,
   "metadata": {},
   "outputs": [
    {
     "data": {
      "text/plain": [
       "True"
      ]
     },
     "execution_count": 13,
     "metadata": {},
     "output_type": "execute_result"
    }
   ],
   "source": [
    "# conversion to boolean\n",
    "bool(0) # False\n",
    "bool(1) # True\n",
    "bool(\"\") # False\n",
    "bool(\"not empty\") # True"
   ]
  },
  {
   "cell_type": "code",
   "execution_count": 15,
   "metadata": {},
   "outputs": [
    {
     "data": {
      "text/plain": [
       "True"
      ]
     },
     "execution_count": 15,
     "metadata": {},
     "output_type": "execute_result"
    }
   ],
   "source": [
    "# embedded stuff\n",
    "board_input = 0b0000_0001\n",
    "# is bit 0 set?\n",
    "bool(board_input)"
   ]
  },
  {
   "cell_type": "code",
   "execution_count": 19,
   "metadata": {},
   "outputs": [
    {
     "data": {
      "text/plain": [
       "True"
      ]
     },
     "execution_count": 19,
     "metadata": {},
     "output_type": "execute_result"
    }
   ],
   "source": [
    "# more complex example\n",
    "board_input = 0b1100_0001\n",
    "# bit 0 is important, others are not\n",
    "# mask out other bits\n",
    "bool(board_input & 0b0000_0001)"
   ]
  },
  {
   "cell_type": "code",
   "execution_count": 21,
   "metadata": {},
   "outputs": [
    {
     "data": {
      "text/plain": [
       "False"
      ]
     },
     "execution_count": 21,
     "metadata": {},
     "output_type": "execute_result"
    }
   ],
   "source": [
    "# masking can be used for comparison as well\n",
    "board_input = 0b1100_0000\n",
    "board_input & 0b0000_0001 == 0b0000_0001"
   ]
  },
  {
   "cell_type": "code",
   "execution_count": 29,
   "metadata": {},
   "outputs": [
    {
     "name": "stdout",
     "output_type": "stream",
     "text": [
      "11000000\n"
     ]
    }
   ],
   "source": [
    "# toggling an output\n",
    "board_output = True\n",
    "board_output = False\n",
    "board_output  = 0b1100_0000\n",
    "board_output |= 0b0000_0001 # turns the desired bit on\n",
    "board_output &= 0b1111_1110 # turns the desired bit off\n",
    "board_output  = 0b1100_0000\n",
    "board_output ^= 0b0000_0001 # toggle the desired bit on/off\n",
    "print(f\"{board_output:0b}\")"
   ]
  },
  {
   "cell_type": "code",
   "execution_count": 30,
   "metadata": {},
   "outputs": [
    {
     "name": "stdout",
     "output_type": "stream",
     "text": [
      "result is displayed\n"
     ]
    }
   ],
   "source": [
    "# basic if statement\n",
    "if True:\n",
    "    print(\"result is displayed\")"
   ]
  },
  {
   "cell_type": "code",
   "execution_count": 31,
   "metadata": {},
   "outputs": [],
   "source": [
    "if False:\n",
    "    print(\"result is not displayed\")"
   ]
  },
  {
   "cell_type": "code",
   "execution_count": 33,
   "metadata": {},
   "outputs": [
    {
     "name": "stdout",
     "output_type": "stream",
     "text": [
      "You have the right number!\n"
     ]
    }
   ],
   "source": [
    "# comparing numbers\n",
    "num = 123\n",
    "if num == 123:\n",
    "    print(\"You have the right number!\")"
   ]
  },
  {
   "cell_type": "code",
   "execution_count": 36,
   "metadata": {},
   "outputs": [
    {
     "name": "stdout",
     "output_type": "stream",
     "text": [
      "The strings are the same!\n"
     ]
    }
   ],
   "source": [
    "# comparing strings\n",
    "str1 = \"abcde\"\n",
    "if str1 == \"abcde\":\n",
    "    print(\"The strings are the same!\")"
   ]
  },
  {
   "cell_type": "code",
   "execution_count": 43,
   "metadata": {},
   "outputs": [
    {
     "name": "stdout",
     "output_type": "stream",
     "text": [
      "zero\n",
      "always printed\n"
     ]
    }
   ],
   "source": [
    "# else statement\n",
    "num = 0\n",
    "if num == 0:\n",
    "    print(\"zero\")\n",
    "else:\n",
    "    print(\"not zero\")\n",
    "    print(\"part of the statement!\")\n",
    "print(\"always printed\")"
   ]
  },
  {
   "cell_type": "code",
   "execution_count": 44,
   "metadata": {},
   "outputs": [
    {
     "name": "stdout",
     "output_type": "stream",
     "text": [
      "c\n"
     ]
    }
   ],
   "source": [
    "# else if\n",
    "letter = \"c\"\n",
    "if letter == \"a\":\n",
    "    print(\"a\")\n",
    "elif letter == \"b\":\n",
    "    print(\"b\")\n",
    "elif letter == \"c\":\n",
    "    print(\"c\")\n",
    "else:\n",
    "    print(\"something else\")"
   ]
  },
  {
   "cell_type": "code",
   "execution_count": 47,
   "metadata": {},
   "outputs": [
    {
     "name": "stdout",
     "output_type": "stream",
     "text": [
      "Community Edition v2\n"
     ]
    }
   ],
   "source": [
    "# nested if statements\n",
    "product_key = \"ABCE-52345\"\n",
    "if product_key < \"ABCE\":\n",
    "    print(\"Trial Version\")\n",
    "elif product_key < \"ABCF\":\n",
    "    if product_key < \"ABCE-5\":\n",
    "        print(\"Community Edition v1\")\n",
    "    else:\n",
    "        print(\"Community Edition v2\")\n",
    "else:\n",
    "    print(\"Registered Version\")"
   ]
  },
  {
   "cell_type": "code",
   "execution_count": null,
   "metadata": {},
   "outputs": [],
   "source": []
  }
 ],
 "metadata": {
  "kernelspec": {
   "display_name": "Python 3 (ipykernel)",
   "language": "python",
   "name": "python3"
  },
  "language_info": {
   "codemirror_mode": {
    "name": "ipython",
    "version": 3
   },
   "file_extension": ".py",
   "mimetype": "text/x-python",
   "name": "python",
   "nbconvert_exporter": "python",
   "pygments_lexer": "ipython3",
   "version": "3.10.7"
  },
  "vscode": {
   "interpreter": {
    "hash": "369f2c481f4da34e4445cda3fffd2e751bd1c4d706f27375911949ba6bb62e1c"
   }
  }
 },
 "nbformat": 4,
 "nbformat_minor": 4
}
