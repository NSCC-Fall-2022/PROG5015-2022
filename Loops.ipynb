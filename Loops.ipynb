{
 "cells": [
  {
   "cell_type": "code",
   "execution_count": 3,
   "metadata": {},
   "outputs": [
    {
     "data": {
      "text/plain": [
       "['G0',\n",
       " 'G1',\n",
       " 'G2',\n",
       " 'G3',\n",
       " 'I2C',\n",
       " 'SCL',\n",
       " 'SDA',\n",
       " '__blinka__',\n",
       " '__builtins__',\n",
       " '__cached__',\n",
       " '__doc__',\n",
       " '__file__',\n",
       " '__loader__',\n",
       " '__name__',\n",
       " '__package__',\n",
       " '__repo__',\n",
       " '__spec__',\n",
       " '__version__',\n",
       " 'ap_board',\n",
       " 'board_id',\n",
       " 'detector',\n",
       " 'pin',\n",
       " 'sys']"
      ]
     },
     "execution_count": 3,
     "metadata": {},
     "output_type": "execute_result"
    }
   ],
   "source": [
    "# standard setup\n",
    "import os\n",
    "os.environ[\"BLINKA_MCP2221\"] = \"1\"\n",
    "os.environ[\"BLINKA_MCP2221_RESET_DELAY\"] = \"1.5\"\n",
    "import board\n",
    "dir(board)"
   ]
  },
  {
   "cell_type": "code",
   "execution_count": 12,
   "metadata": {},
   "outputs": [
    {
     "name": "stdout",
     "output_type": "stream",
     "text": [
      "0,1,2,3,4,5,6,7,8,9,\n"
     ]
    }
   ],
   "source": [
    "# basic for loop\n",
    "for x in range(10):\n",
    "    print(x, end=',')\n",
    "print()"
   ]
  },
  {
   "cell_type": "code",
   "execution_count": 13,
   "metadata": {},
   "outputs": [
    {
     "name": "stdout",
     "output_type": "stream",
     "text": [
      "1 3 5 7 9 11 13 15 17 19 \n"
     ]
    }
   ],
   "source": [
    "# expanded for loop\n",
    "for x in range(1, 20, 2):\n",
    "    print(x, end = ' ')\n",
    "print()"
   ]
  },
  {
   "cell_type": "code",
   "execution_count": null,
   "metadata": {},
   "outputs": [
    {
     "name": "stdout",
     "output_type": "stream",
     "text": [
      "20 18 16 14 12 10 8 6 4 2 0 \n"
     ]
    }
   ],
   "source": [
    "# counting backwards\n",
    "for x in range(20, -1, -2):\n",
    "    print(x, end=' ')\n",
    "print()"
   ]
  },
  {
   "cell_type": "code",
   "execution_count": null,
   "metadata": {},
   "outputs": [
    {
     "name": "stdout",
     "output_type": "stream",
     "text": [
      "0 1 2 3 4 5 6 7 8 9 \n"
     ]
    }
   ],
   "source": [
    "# standard while\n",
    "count = 0\n",
    "while count < 10:\n",
    "    print(count, end=' ')\n",
    "    count += 1\n",
    "print()"
   ]
  },
  {
   "cell_type": "code",
   "execution_count": null,
   "metadata": {},
   "outputs": [],
   "source": [
    "# infinite loop (don't run!)\n",
    "while True:\n",
    "    # needed for embedded systems to keep things running\n",
    "    pass"
   ]
  },
  {
   "cell_type": "code",
   "execution_count": 1,
   "metadata": {},
   "outputs": [
    {
     "name": "stdout",
     "output_type": "stream",
     "text": [
      "0 1 2 3 4 5 6 7 8 9 \n"
     ]
    }
   ],
   "source": [
    "# do while loop\n",
    "count = 0\n",
    "while True:\n",
    "    print(count, end=' ')\n",
    "    count += 1\n",
    "    if count > 9:\n",
    "        break\n",
    "print()"
   ]
  },
  {
   "cell_type": "code",
   "execution_count": 23,
   "metadata": {},
   "outputs": [],
   "source": [
    "# animate a ball\n",
    "# move the ball from the left to the right of the OLED\n",
    "import board\n",
    "import adafruit_ssd1306\n",
    "import math\n",
    "import time\n",
    "\n",
    "i2c = board.I2C()\n",
    "oled = adafruit_ssd1306.SSD1306_I2C(128, 32, i2c)\n",
    "\n",
    "# clear screen\n",
    "oled.fill(0)\n",
    "\n",
    "# display a ball on the far left\n",
    "oled.circle(8, 16, 8, 1)\n",
    "oled.show()\n",
    "\n",
    "for x in range(1, 50, 5):\n",
    "    # delay to allow user to see image\n",
    "    #time.sleep(0.01)\n",
    "\n",
    "    # draw the circle in a new spot\n",
    "    oled.fill(0)\n",
    "    oled.circle(8 + x, 16, 8, 1)\n",
    "    oled.show()\n",
    "\n",
    "# draw our own circle\n",
    "#for n in range(0, 629, 5):\n",
    "#    x = math.floor(16 * math.sin(n / 100) + 16)\n",
    "#    y = math.floor(16 * math.cos(n / 100) + 16)\n",
    "#    oled.pixel(x, y, 1)\n",
    "    #print(x, y)\n",
    "\n",
    "# display buffer\n",
    "#oled.show()"
   ]
  },
  {
   "cell_type": "code",
   "execution_count": 10,
   "metadata": {},
   "outputs": [
    {
     "name": "stdout",
     "output_type": "stream",
     "text": [
      "16 17 19 20 22 23 25 26 27 28 29 30 30 31 31 31 31 31 31 31 30 29 28 27 26 25 24 22 21 19 18 16 15 13 11 10 8 7 6 4 3 2 2 1 0 0 0 0 0 0 0 1 1 2 3 4 5 7 8 10 11 13 14 \n"
     ]
    }
   ],
   "source": [
    "import math\n",
    "for x in range(0, 629, 10):\n",
    "    y = math.floor(16 * math.sin(x / 100) + 16)\n",
    "    print(y, end=' ')\n",
    "print()"
   ]
  },
  {
   "cell_type": "code",
   "execution_count": null,
   "metadata": {},
   "outputs": [],
   "source": [
    "for n in range(0, 629, 10):\n",
    "    x = math.floor(16 * math.sin(n / 100) + 16)\n",
    "    y = math.floor(16 * math.cos(n / 100) + 16)\n",
    "    print(x, y)"
   ]
  },
  {
   "cell_type": "code",
   "execution_count": null,
   "metadata": {},
   "outputs": [],
   "source": [
    "# basic delay\n",
    "import time\n",
    "\n",
    "time.sleep(1)"
   ]
  },
  {
   "cell_type": "code",
   "execution_count": 38,
   "metadata": {},
   "outputs": [],
   "source": [
    "# better delay\n",
    "\n",
    "# blink an LED once every second\n",
    "# also keep checking for button press\n",
    "\n",
    "import board\n",
    "import digitalio\n",
    "\n",
    "led = digitalio.DigitalInOut(board.G0)\n",
    "led.direction = digitalio.Direction.OUTPUT\n",
    "\n",
    "button = digitalio.DigitalInOut(board.G1)\n",
    "button.direction = digitalio.Direction.INPUT\n",
    "\n",
    "# normally an infinite loop\n",
    "start_time = time.monotonic()\n",
    "count = 0\n",
    "while True:\n",
    "\n",
    "    # check the button input\n",
    "    if button.value:\n",
    "        print(\"button pressed\")\n",
    "\n",
    "    # blink LED\n",
    "    if (led.value == False) and (time.monotonic() >= start_time + 1):\n",
    "        led.value = True\n",
    "        start_time = time.monotonic()\n",
    "        count += 1\n",
    "    \n",
    "    # delay for 1 sec\n",
    "    #time.sleep(1) # can't use this as it will delay the button press\n",
    "    if (led.value == True) and (time.monotonic() >= start_time + 1):\n",
    "        led.value = False\n",
    "        start_time = time.monotonic()\n",
    "\n",
    "    # end the program after 10 seconds\n",
    "    if count > 5:\n",
    "        break\n",
    "\n"
   ]
  },
  {
   "cell_type": "code",
   "execution_count": null,
   "metadata": {},
   "outputs": [],
   "source": [
    "# the \"system tick\"\n",
    "start_time = time.monotonic()\n",
    "while True:\n",
    "    print(\"-\", end='')\n",
    "    if time.monotonic() >= start_time + 1:\n",
    "        print(\"1 second has passed\")\n",
    "        break"
   ]
  },
  {
   "cell_type": "code",
   "execution_count": null,
   "metadata": {},
   "outputs": [],
   "source": []
  }
 ],
 "metadata": {
  "kernelspec": {
   "display_name": "Python 3.10.7 64-bit",
   "language": "python",
   "name": "python3"
  },
  "language_info": {
   "codemirror_mode": {
    "name": "ipython",
    "version": 3
   },
   "file_extension": ".py",
   "mimetype": "text/x-python",
   "name": "python",
   "nbconvert_exporter": "python",
   "pygments_lexer": "ipython3",
   "version": "3.10.7"
  },
  "orig_nbformat": 4,
  "vscode": {
   "interpreter": {
    "hash": "369f2c481f4da34e4445cda3fffd2e751bd1c4d706f27375911949ba6bb62e1c"
   }
  }
 },
 "nbformat": 4,
 "nbformat_minor": 2
}
