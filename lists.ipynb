{
 "cells": [
  {
   "cell_type": "code",
   "execution_count": 2,
   "metadata": {},
   "outputs": [
    {
     "name": "stdout",
     "output_type": "stream",
     "text": [
      "single_variable = 123\n",
      "list_variable = [123, 'text', 123.456]\n"
     ]
    }
   ],
   "source": [
    "# a list is a variable that can contain multiple pieces of data\n",
    "single_variable = 123\n",
    "list_variable = [123, \"text\", 123.456]\n",
    "print(f\"single_variable = {single_variable}\")\n",
    "print(f\"list_variable = {list_variable}\")"
   ]
  },
  {
   "cell_type": "code",
   "execution_count": 12,
   "metadata": {},
   "outputs": [
    {
     "name": "stdout",
     "output_type": "stream",
     "text": [
      "[1, 3, 5, 7, 9]\n"
     ]
    }
   ],
   "source": [
    "# declare a variable as a list\n",
    "list1 = [1, 2, 3]\n",
    "list2 = []\n",
    "list3 = [1]\n",
    "list4 = [1, 2, 3, [4, 5, 6]]\n",
    "list5 = [\"text\", 123, 3.14159, [123, \"data\", [4, 5, 6]]]\n",
    "list6 = list(range(1, 11, 2))\n",
    "print(list6)"
   ]
  },
  {
   "cell_type": "code",
   "execution_count": 16,
   "metadata": {},
   "outputs": [
    {
     "data": {
      "text/plain": [
       "5"
      ]
     },
     "execution_count": 16,
     "metadata": {},
     "output_type": "execute_result"
    }
   ],
   "source": [
    "# accessing data in a list\n",
    "list1 = [1, 2, 3]\n",
    "list1[1]    # access in order from left to right\n",
    "list1[-3]   # access in reverse order from right to left\n",
    "\n",
    "list2 = [[1, 2, 3], [4, 5, 6]]\n",
    "list2[1][-2]"
   ]
  },
  {
   "cell_type": "code",
   "execution_count": 20,
   "metadata": {},
   "outputs": [
    {
     "data": {
      "text/plain": [
       "[0, 1, 2, 3, 4, 5]"
      ]
     },
     "execution_count": 20,
     "metadata": {},
     "output_type": "execute_result"
    }
   ],
   "source": [
    "# adding elements to the end of an existing list\n",
    "list1 = [1, 2, 3]\n",
    "list1.append(4)     # add to end of list\n",
    "list1 += [5]        # add to end of list\n",
    "list1 = [0] + list1 # add to beginning of list\n",
    "list1"
   ]
  },
  {
   "cell_type": "code",
   "execution_count": 24,
   "metadata": {},
   "outputs": [
    {
     "data": {
      "text/plain": [
       "[1, 2, 3, 4]"
      ]
     },
     "execution_count": 24,
     "metadata": {},
     "output_type": "execute_result"
    }
   ],
   "source": [
    "# inserting elements to a list\n",
    "list1 = [1, 3, 4]\n",
    "list1.insert(1, 2)\n",
    "list1"
   ]
  },
  {
   "cell_type": "code",
   "execution_count": 32,
   "metadata": {},
   "outputs": [
    {
     "name": "stdout",
     "output_type": "stream",
     "text": [
      "[1, 3, 4, 2, 3, 4]\n"
     ]
    },
    {
     "data": {
      "text/plain": [
       "4"
      ]
     },
     "execution_count": 32,
     "metadata": {},
     "output_type": "execute_result"
    }
   ],
   "source": [
    "# remove elements from a list\n",
    "list1 = [1, 2, 3, 4, 1, 2, 3, 4]\n",
    "list1.remove(2)     # deletes the first element based on its value\n",
    "del list1[3]        # deletes an element based on its position\n",
    "print(list1)\n",
    "last = list1.pop()  # deletes the last element\n",
    "last"
   ]
  },
  {
   "cell_type": "code",
   "execution_count": 35,
   "metadata": {},
   "outputs": [
    {
     "data": {
      "text/plain": [
       "[5, 4, 3, 2, 1]"
      ]
     },
     "execution_count": 35,
     "metadata": {},
     "output_type": "execute_result"
    }
   ],
   "source": [
    "# useful list functions\n",
    "list1 = [1, 2, 3, 4, 5]\n",
    "len(list1)      # the number of elements in the list\n",
    "list1.reverse() # reverse all the elements in the list\n",
    "list1"
   ]
  },
  {
   "cell_type": "code",
   "execution_count": 41,
   "metadata": {},
   "outputs": [
    {
     "name": "stdout",
     "output_type": "stream",
     "text": [
      "1,2,3,4,5,\n",
      "1 2 3 4 5 \n",
      "1 cat dog \n"
     ]
    }
   ],
   "source": [
    "# iterating through a list of data\n",
    "list1 = [1, 2, 3, 4, 5]\n",
    "\n",
    "# using a standard for loop\n",
    "for i in range(len(list1)):\n",
    "    print(list1[i], end=',')\n",
    "print()\n",
    "\n",
    "# using a for-in loop\n",
    "for num in list1:\n",
    "    print(num, end=' ')\n",
    "print()\n",
    "\n",
    "for num in [1, \"cat\", \"dog\"]:\n",
    "    print(num, end=' ')\n",
    "print()"
   ]
  },
  {
   "cell_type": "code",
   "execution_count": 51,
   "metadata": {},
   "outputs": [
    {
     "name": "stdout",
     "output_type": "stream",
     "text": [
      "Name: Brian\n",
      "Address: 123 Anywhere Ave\n",
      "Phone: [902, 555, 1212]\n",
      "('Brian', '123 Anywhere Ave')\n",
      "[[902, 555, 1212], \"uncle ed's fishing hole\"]\n"
     ]
    }
   ],
   "source": [
    "# packing and unpacking lists\n",
    "info = [\"Brian\", \"123 Anywhere Ave\", [902, 555, 1212], \"uncle ed's fishing hole\"]\n",
    "# name = info[0]\n",
    "# address = info[1]\n",
    "# phone = info[2]\n",
    "name, address, phone, fishing = info    # unpacking list into separate variables\n",
    "name, _, phone, _ = info                # unpack but ignore address\n",
    "name, *other, fishing = info            # unpack addr/phone into other list\n",
    "name, addr, *other = info\n",
    "\n",
    "name_addr = name, address       # packing data into a tuple (type of list)\n",
    "\n",
    "print(f\"Name: {name}\")\n",
    "print(f\"Address: {address}\")\n",
    "print(f\"Phone: {phone}\")\n",
    "print(f\"{name_addr}\")\n",
    "print(f\"{other}\")"
   ]
  },
  {
   "cell_type": "code",
   "execution_count": null,
   "metadata": {},
   "outputs": [],
   "source": []
  }
 ],
 "metadata": {
  "kernelspec": {
   "display_name": "Python 3.9.2 32-bit",
   "language": "python",
   "name": "python3"
  },
  "language_info": {
   "codemirror_mode": {
    "name": "ipython",
    "version": 3
   },
   "file_extension": ".py",
   "mimetype": "text/x-python",
   "name": "python",
   "nbconvert_exporter": "python",
   "pygments_lexer": "ipython3",
   "version": "3.9.2"
  },
  "orig_nbformat": 4,
  "vscode": {
   "interpreter": {
    "hash": "e7370f93d1d0cde622a1f8e1c04877d8463912d04d973331ad4851f04de6915a"
   }
  }
 },
 "nbformat": 4,
 "nbformat_minor": 2
}
