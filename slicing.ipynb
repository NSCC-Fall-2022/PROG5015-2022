{
 "cells": [
  {
   "cell_type": "code",
   "execution_count": 8,
   "metadata": {},
   "outputs": [
    {
     "data": {
      "text/plain": [
       "[4, 3]"
      ]
     },
     "execution_count": 8,
     "metadata": {},
     "output_type": "execute_result"
    }
   ],
   "source": [
    "# slicing is extracting more than one element from a list or tuple\n",
    "list1 = [1, 2, 3, 4, 5]\n",
    "list1[0:2]  # extract elements 0 and 1 from the list\n",
    "list1[2:]   # extract elements from 2 to end of the list\n",
    "list1[:3]   # extract elements from 0 to 3rd element\n",
    "list1[:]    # extract everything?\n",
    "list1[1:4:2]# extract 2 through 4 by 2 elements at a time\n",
    "list1[-2:-4:-1] # extract in reverse from -2 to -4 by -1 at a time"
   ]
  },
  {
   "cell_type": "code",
   "execution_count": 9,
   "metadata": {},
   "outputs": [
    {
     "data": {
      "text/plain": [
       "[4, 5, 6]"
      ]
     },
     "execution_count": 9,
     "metadata": {},
     "output_type": "execute_result"
    }
   ],
   "source": [
    "# example\n",
    "big_list = [1, 2, 3, 4, 5, 6, 7, 8, 9, 10]\n",
    "small_list = big_list[3:6]\n",
    "small_list"
   ]
  },
  {
   "cell_type": "code",
   "execution_count": 10,
   "metadata": {},
   "outputs": [
    {
     "data": {
      "text/plain": [
       "'is a'"
      ]
     },
     "execution_count": 10,
     "metadata": {},
     "output_type": "execute_result"
    }
   ],
   "source": [
    "# the same thing can be done with strings as well\n",
    "str1 = \"This is a long string.\"\n",
    "str1[5:9]"
   ]
  },
  {
   "cell_type": "code",
   "execution_count": 18,
   "metadata": {},
   "outputs": [
    {
     "data": {
      "text/plain": [
       "'num = 123, flt = 123.5'"
      ]
     },
     "execution_count": 18,
     "metadata": {},
     "output_type": "execute_result"
    }
   ],
   "source": [
    "# extract a number from a string\n",
    "str1 = \"abc123.5def\"\n",
    "num = str1[3:6]\n",
    "num = int(num)\n",
    "flt = str1[3:8]\n",
    "flt = float(flt)\n",
    "f\"num = {num}, flt = {flt}\""
   ]
  },
  {
   "cell_type": "code",
   "execution_count": 22,
   "metadata": {},
   "outputs": [
    {
     "name": "stdout",
     "output_type": "stream",
     "text": [
      "49 50 51 52 53 54 55 56 57 97 98 99 101 100 102 103 \n",
      "checksum = 1177\n"
     ]
    }
   ],
   "source": [
    "# iterate through a string\n",
    "str1 = \"123456789abcedfg\"\n",
    "\n",
    "checksum = 0\n",
    "for ch in str1:\n",
    "    print(ord(ch), end=' ')\n",
    "    checksum += ord(ch)\n",
    "print(f\"\\nchecksum = {checksum}\")"
   ]
  },
  {
   "cell_type": "code",
   "execution_count": 38,
   "metadata": {},
   "outputs": [
    {
     "name": "stdout",
     "output_type": "stream",
     "text": [
      "MASSAGE: HELLO WORLD\n",
      "344\n"
     ]
    }
   ],
   "source": [
    "# cleaning data\n",
    "str1 = \"   MESSAGE: HELLO WORLD\\n  344    \\n  \"\n",
    "\n",
    "# step 1: remove (strip) spaces from the ends\n",
    "str1 = str1.strip()\n",
    "\n",
    "# step 2: change any data\n",
    "list1 = list(str1)\n",
    "list1[1] = 'A'\n",
    "str1 = ''.join(list1)\n",
    "str1\n",
    "\n",
    "# step 3: split messages\n",
    "messages = str1.split('\\n')\n",
    "\n",
    "# step 4: clean messages\n",
    "for message in messages:\n",
    "    print(message.strip())\n"
   ]
  },
  {
   "cell_type": "code",
   "execution_count": null,
   "metadata": {},
   "outputs": [],
   "source": []
  }
 ],
 "metadata": {
  "kernelspec": {
   "display_name": "Python 3.9.2 32-bit",
   "language": "python",
   "name": "python3"
  },
  "language_info": {
   "codemirror_mode": {
    "name": "ipython",
    "version": 3
   },
   "file_extension": ".py",
   "mimetype": "text/x-python",
   "name": "python",
   "nbconvert_exporter": "python",
   "pygments_lexer": "ipython3",
   "version": "3.9.2"
  },
  "orig_nbformat": 4,
  "vscode": {
   "interpreter": {
    "hash": "e7370f93d1d0cde622a1f8e1c04877d8463912d04d973331ad4851f04de6915a"
   }
  }
 },
 "nbformat": 4,
 "nbformat_minor": 2
}
