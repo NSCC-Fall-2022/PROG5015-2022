{
 "cells": [
  {
   "cell_type": "code",
   "execution_count": 2,
   "metadata": {},
   "outputs": [
    {
     "data": {
      "text/plain": [
       "2"
      ]
     },
     "execution_count": 2,
     "metadata": {},
     "output_type": "execute_result"
    }
   ],
   "source": [
    "# dictionary is list that uses text to locate the elements\n",
    "list1 = [1, 2, 3, 4]\n",
    "list1[2]\n",
    "dict1 = {'a':1, 'cat':2, 'zzz':3, 'abc':4}\n",
    "dict1[\"cat\"]\n"
   ]
  },
  {
   "cell_type": "code",
   "execution_count": 4,
   "metadata": {},
   "outputs": [
    {
     "data": {
      "text/plain": [
       "{'a': 1, 'cat': 2, 'abc': 4, 'dog': 5}"
      ]
     },
     "execution_count": 4,
     "metadata": {},
     "output_type": "execute_result"
    }
   ],
   "source": [
    "# add/remove elements to a dictionary\n",
    "dict1 = {'a':1, 'cat':2, 'zzz':3, 'abc':4}\n",
    "dict1[\"dog\"] = 5\n",
    "del dict1[\"zzz\"]\n",
    "dict1"
   ]
  },
  {
   "cell_type": "code",
   "execution_count": 5,
   "metadata": {},
   "outputs": [
    {
     "data": {
      "text/plain": [
       "4"
      ]
     },
     "execution_count": 5,
     "metadata": {},
     "output_type": "execute_result"
    }
   ],
   "source": [
    "# length of a dictionary\n",
    "dict1 = {'a':1, 'cat':2, 'zzz':3, 'abc':4}\n",
    "len(dict1)"
   ]
  },
  {
   "cell_type": "code",
   "execution_count": 8,
   "metadata": {},
   "outputs": [
    {
     "name": "stdout",
     "output_type": "stream",
     "text": [
      "a 1 cat 2 zzz 3 abc 4 \n",
      "a 1 , cat 2 , zzz 3 , abc 4 , \n"
     ]
    }
   ],
   "source": [
    "# iterate through elements in a dictionary\n",
    "dict1 = {'a':1, 'cat':2, 'zzz':3, 'abc':4}\n",
    "\n",
    "for key in dict1:\n",
    "    print(key, dict1[key], end=' ')\n",
    "print()\n",
    "\n",
    "for k, v in dict1.items():\n",
    "    print(k, v, end=' , ')\n",
    "print()"
   ]
  },
  {
   "cell_type": "code",
   "execution_count": null,
   "metadata": {},
   "outputs": [],
   "source": []
  }
 ],
 "metadata": {
  "kernelspec": {
   "display_name": "Python 3.9.2 32-bit",
   "language": "python",
   "name": "python3"
  },
  "language_info": {
   "codemirror_mode": {
    "name": "ipython",
    "version": 3
   },
   "file_extension": ".py",
   "mimetype": "text/x-python",
   "name": "python",
   "nbconvert_exporter": "python",
   "pygments_lexer": "ipython3",
   "version": "3.9.2"
  },
  "orig_nbformat": 4,
  "vscode": {
   "interpreter": {
    "hash": "e7370f93d1d0cde622a1f8e1c04877d8463912d04d973331ad4851f04de6915a"
   }
  }
 },
 "nbformat": 4,
 "nbformat_minor": 2
}
