{
 "cells": [
  {
   "cell_type": "code",
   "execution_count": 1,
   "id": "79a7b68a-a436-469a-a181-a314fa3faf74",
   "metadata": {},
   "outputs": [
    {
     "name": "stdout",
     "output_type": "stream",
     "text": [
      "PROG5015-brian\n"
     ]
    }
   ],
   "source": [
    "!hostname"
   ]
  },
  {
   "cell_type": "code",
   "execution_count": 3,
   "id": "d3982246-e4df-4d2b-ab36-0e770ad40acc",
   "metadata": {},
   "outputs": [
    {
     "name": "stdout",
     "output_type": "stream",
     "text": [
      "Linux PROG5015-brian 5.15.61-v7l+ #1579 SMP Fri Aug 26 11:13:03 BST 2022 armv7l GNU/Linux\n"
     ]
    }
   ],
   "source": [
    "!uname -a"
   ]
  },
  {
   "cell_type": "code",
   "execution_count": 6,
   "id": "8e63cf74-47f3-4be7-9eda-056c8e1c9568",
   "metadata": {},
   "outputs": [
    {
     "name": "stdout",
     "output_type": "stream",
     "text": [
      "pi\n"
     ]
    }
   ],
   "source": [
    "!whoami"
   ]
  },
  {
   "cell_type": "code",
   "execution_count": 17,
   "id": "a9313a8b",
   "metadata": {},
   "outputs": [
    {
     "name": "stdout",
     "output_type": "stream",
     "text": [
      "PROG5015-brian\n",
      "'0'\n"
     ]
    }
   ],
   "source": [
    "import os\n",
    "hostname = os.system(\"hostname\")\n",
    "print(f\"'{hostname}'\")"
   ]
  },
  {
   "cell_type": "code",
   "execution_count": 15,
   "id": "1a5f9ea9",
   "metadata": {},
   "outputs": [
    {
     "name": "stdout",
     "output_type": "stream",
     "text": [
      "*['PROG5015-brian\\n']*\n"
     ]
    }
   ],
   "source": [
    "import os\n",
    "hostname = os.popen(\"hostname\").readlines()\n",
    "print(f\"*{hostname}*\")"
   ]
  },
  {
   "cell_type": "code",
   "execution_count": 18,
   "id": "f43e567f",
   "metadata": {},
   "outputs": [
    {
     "name": "stdout",
     "output_type": "stream",
     "text": [
      "total 12\n",
      "drwxr-xr-x 2 pi pi 4096 Oct 11 10:01 .ipynb_checkpoints\n",
      "-rw-r--r-- 1 pi pi 2404 Oct 12 11:18 test.ipynb\n",
      "-rw-r--r-- 1 pi pi   20 Oct 11 09:52 test.py\n",
      "0\n",
      "['total 12\\n', 'drwxr-xr-x 2 pi pi 4096 Oct 11 10:01 .ipynb_checkpoints\\n', '-rw-r--r-- 1 pi pi 2404 Oct 12 11:18 test.ipynb\\n', '-rw-r--r-- 1 pi pi   20 Oct 11 09:52 test.py\\n']\n"
     ]
    }
   ],
   "source": [
    "import os\n",
    "print(os.system(\"ls -Al\"))\n",
    "print(os.popen(\"ls -Al\").readlines())"
   ]
  },
  {
   "cell_type": "code",
   "execution_count": null,
   "id": "d300a789",
   "metadata": {},
   "outputs": [],
   "source": []
  }
 ],
 "metadata": {
  "kernelspec": {
   "display_name": "Python 3.9.2 32-bit",
   "language": "python",
   "name": "python3"
  },
  "language_info": {
   "codemirror_mode": {
    "name": "ipython",
    "version": 3
   },
   "file_extension": ".py",
   "mimetype": "text/x-python",
   "name": "python",
   "nbconvert_exporter": "python",
   "pygments_lexer": "ipython3",
   "version": "3.9.2"
  },
  "vscode": {
   "interpreter": {
    "hash": "e7370f93d1d0cde622a1f8e1c04877d8463912d04d973331ad4851f04de6915a"
   }
  }
 },
 "nbformat": 4,
 "nbformat_minor": 5
}
