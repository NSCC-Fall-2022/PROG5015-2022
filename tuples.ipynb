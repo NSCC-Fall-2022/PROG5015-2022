{
 "cells": [
  {
   "cell_type": "code",
   "execution_count": 5,
   "metadata": {},
   "outputs": [
    {
     "data": {
      "text/plain": [
       "4"
      ]
     },
     "execution_count": 5,
     "metadata": {},
     "output_type": "execute_result"
    }
   ],
   "source": [
    "# what is a tuple?\n",
    "# a \"constant list\" or a list that can't be changed\n",
    "# a list is 'mutable' and a tuple is 'immutable'\n",
    "tuple1 = (1, 2, 3, 4)\n",
    "tuple1[0]\n",
    "tuple1[-1]\n"
   ]
  },
  {
   "cell_type": "code",
   "execution_count": 7,
   "metadata": {},
   "outputs": [
    {
     "data": {
      "text/plain": [
       "(1, 2, 3, 4, 5)"
      ]
     },
     "execution_count": 7,
     "metadata": {},
     "output_type": "execute_result"
    }
   ],
   "source": [
    "# packed data will create a tuple\n",
    "tuple1 = 1, 2, 3, 4, 5\n",
    "tuple1"
   ]
  },
  {
   "cell_type": "code",
   "execution_count": 12,
   "metadata": {},
   "outputs": [
    {
     "data": {
      "text/plain": [
       "(100,)"
      ]
     },
     "execution_count": 12,
     "metadata": {},
     "output_type": "execute_result"
    }
   ],
   "source": [
    "# tuples and lists with a single value\n",
    "single_list = [100]\n",
    "single_list\n",
    "single_tuple = (100,)\n",
    "single_tuple"
   ]
  },
  {
   "cell_type": "code",
   "execution_count": 17,
   "metadata": {},
   "outputs": [
    {
     "name": "stdout",
     "output_type": "stream",
     "text": [
      "john 123 anywhere dr\n",
      "['555-1212', \"uncle ed's fishing hole\"]\n"
     ]
    }
   ],
   "source": [
    "# unpacking a tuple\n",
    "tuple1 = 'john', 123, 'anywhere dr', '555-1212', 'uncle ed\\'s fishing hole'\n",
    "name, street_num, street_name, *other = tuple1\n",
    "print(name, street_num, street_name)\n",
    "print(other)"
   ]
  },
  {
   "cell_type": "code",
   "execution_count": null,
   "metadata": {},
   "outputs": [],
   "source": []
  }
 ],
 "metadata": {
  "kernelspec": {
   "display_name": "Python 3.9.2 32-bit",
   "language": "python",
   "name": "python3"
  },
  "language_info": {
   "codemirror_mode": {
    "name": "ipython",
    "version": 3
   },
   "file_extension": ".py",
   "mimetype": "text/x-python",
   "name": "python",
   "nbconvert_exporter": "python",
   "pygments_lexer": "ipython3",
   "version": "3.9.2"
  },
  "orig_nbformat": 4,
  "vscode": {
   "interpreter": {
    "hash": "e7370f93d1d0cde622a1f8e1c04877d8463912d04d973331ad4851f04de6915a"
   }
  }
 },
 "nbformat": 4,
 "nbformat_minor": 2
}
