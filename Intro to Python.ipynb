{
 "cells": [
  {
   "cell_type": "markdown",
   "id": "fd5408cb-ec80-4b1a-9a0a-8e1266f3e59f",
   "metadata": {},
   "source": [
    "How to print \"Hello World\" in Python."
   ]
  },
  {
   "cell_type": "code",
   "execution_count": 3,
   "id": "99cc79a9",
   "metadata": {},
   "outputs": [],
   "source": [
    "# this Jupyter Notebook is used to demonstrate simple Python instructions"
   ]
  },
  {
   "cell_type": "code",
   "execution_count": 1,
   "id": "014b8577-523d-4496-a0c4-7b2be50bd6a1",
   "metadata": {},
   "outputs": [
    {
     "name": "stdout",
     "output_type": "stream",
     "text": [
      "Hello World!\n"
     ]
    }
   ],
   "source": [
    "print(\"Hello World!\")"
   ]
  },
  {
   "cell_type": "code",
   "execution_count": 2,
   "id": "2571cf05-297d-43c9-91e1-eacd3751c1c2",
   "metadata": {},
   "outputs": [
    {
     "name": "stdout",
     "output_type": "stream",
     "text": [
      "Goodbye World!\n"
     ]
    }
   ],
   "source": [
    "print(\"Goodbye World!\")"
   ]
  },
  {
   "cell_type": "code",
   "execution_count": null,
   "id": "c8675981",
   "metadata": {},
   "outputs": [],
   "source": [
    "# commenting is done with the 'pound' sign\n",
    "\n",
    "# general rules\n",
    "# 1. add a comment to the top of code to describe what the program is doing"
   ]
  },
  {
   "cell_type": "code",
   "execution_count": 4,
   "id": "5f6b129e",
   "metadata": {},
   "outputs": [
    {
     "data": {
      "text/plain": [
       "'This is a docstring\\n\\n    This is a multiple line comment block.\\n\\n    It allows any comments between the three quotes.\\n\\n'"
      ]
     },
     "execution_count": 4,
     "metadata": {},
     "output_type": "execute_result"
    }
   ],
   "source": [
    "\"\"\"This is a docstring\n",
    "\n",
    "    This is a multiple line comment block.\n",
    "\n",
    "    It allows any comments between the three quotes.\n",
    "\n",
    "\"\"\""
   ]
  },
  {
   "cell_type": "code",
   "execution_count": 5,
   "id": "384a764b",
   "metadata": {},
   "outputs": [
    {
     "name": "stdout",
     "output_type": "stream",
     "text": [
      "You can print text in quotation marks.\n"
     ]
    }
   ],
   "source": [
    "# the basic output\n",
    "print(\"You can print text in quotation marks.\")"
   ]
  },
  {
   "cell_type": "code",
   "execution_count": 7,
   "id": "b6d23a0b",
   "metadata": {},
   "outputs": [
    {
     "name": "stdout",
     "output_type": "stream",
     "text": [
      "This is comma separated\n"
     ]
    }
   ],
   "source": [
    "# comma separated text output\n",
    "# commas will add spaces automatically\n",
    "print(\"This is\", \"comma separated\")"
   ]
  },
  {
   "cell_type": "code",
   "execution_count": 9,
   "id": "02cff570",
   "metadata": {},
   "outputs": [
    {
     "name": "stdout",
     "output_type": "stream",
     "text": [
      "This is a number: 123 3.14159\n"
     ]
    }
   ],
   "source": [
    "# outputting numbers\n",
    "print(\"This is a number:\", 123, 3.14159)"
   ]
  },
  {
   "cell_type": "code",
   "execution_count": 10,
   "id": "b81d547e",
   "metadata": {},
   "outputs": [
    {
     "name": "stdout",
     "output_type": "stream",
     "text": [
      "Name: Brian Shewan\n"
     ]
    }
   ],
   "source": [
    "# variables?\n",
    "name = \"Brian Shewan\"\n",
    "print(\"Name:\", name)"
   ]
  },
  {
   "cell_type": "code",
   "execution_count": 11,
   "id": "9ce5f27c",
   "metadata": {},
   "outputs": [
    {
     "name": "stdout",
     "output_type": "stream",
     "text": [
      "some text 123 3.14159 True\n"
     ]
    }
   ],
   "source": [
    "text = \"some text\"\n",
    "integer = 123\n",
    "decimal = 3.14159\n",
    "boolean = True\n",
    "print(text, integer, decimal, boolean)"
   ]
  },
  {
   "cell_type": "code",
   "execution_count": 12,
   "id": "aba4a727",
   "metadata": {},
   "outputs": [
    {
     "name": "stdout",
     "output_type": "stream",
     "text": [
      "a concatenated string\n"
     ]
    }
   ],
   "source": [
    "string1 = \"a \"\n",
    "string2 = \"concatenated \"\n",
    "string3 = \"string\"\n",
    "complete = string1 + string2 + string3\n",
    "print(complete)"
   ]
  },
  {
   "cell_type": "code",
   "execution_count": 13,
   "id": "b3da7f83",
   "metadata": {},
   "outputs": [
    {
     "name": "stdout",
     "output_type": "stream",
     "text": [
      "6\n"
     ]
    }
   ],
   "source": [
    "num1 = 1\n",
    "num2 = 2\n",
    "num3 = 3\n",
    "total = num1 + num2 + num3\n",
    "print(total)"
   ]
  },
  {
   "cell_type": "code",
   "execution_count": 14,
   "id": "22980dac",
   "metadata": {},
   "outputs": [],
   "source": [
    "# constants are \"declared\" with capital \"SNAKE_CASE\"\n",
    "PI = 3.14159\n",
    "MAX_VALUE = 999\n",
    "PI = 3 # OOPS! Constants can be changed...."
   ]
  },
  {
   "cell_type": "code",
   "execution_count": 17,
   "id": "678cf222",
   "metadata": {},
   "outputs": [
    {
     "name": "stdout",
     "output_type": "stream",
     "text": [
      "add: 3\n",
      "sub: 2\n",
      "mult: 6\n",
      "div: 2.0\n",
      "int div: 2\n",
      "mod div: 0\n"
     ]
    }
   ],
   "source": [
    "# yep, we can do math too\n",
    "addition = 1 + 2\n",
    "subtraction = 5 - 3\n",
    "multiplication = 3 * 2\n",
    "division = 10 / 5\n",
    "integer_division = 10 // 5\n",
    "mod_division = 10 % 5\n",
    "print(\"add:\", addition)\n",
    "print(\"sub:\", subtraction)\n",
    "print(\"mult:\", multiplication)\n",
    "print(\"div:\", division)\n",
    "print(\"int div:\", integer_division)\n",
    "print(\"mod div:\", mod_division)"
   ]
  },
  {
   "cell_type": "code",
   "execution_count": 19,
   "id": "61fc88c7",
   "metadata": {},
   "outputs": [
    {
     "name": "stdout",
     "output_type": "stream",
     "text": [
      "dec_num: 123.457\n"
     ]
    }
   ],
   "source": [
    "# printing formatted numbers\n",
    "dec_num = 123.456789\n",
    "print(\"dec_num:\", format(dec_num, '.3f'))"
   ]
  },
  {
   "cell_type": "code",
   "execution_count": 22,
   "id": "8d4d083b",
   "metadata": {},
   "outputs": [
    {
     "name": "stdout",
     "output_type": "stream",
     "text": [
      "123.457%\n"
     ]
    }
   ],
   "source": [
    "print(format(dec_num, '.3f') + \"%\")"
   ]
  },
  {
   "cell_type": "code",
   "execution_count": 26,
   "id": "b1f3466e",
   "metadata": {},
   "outputs": [
    {
     "name": "stdout",
     "output_type": "stream",
     "text": [
      "My address is 123 anywhere dr .\n"
     ]
    }
   ],
   "source": [
    "# string formatting\n",
    "street_num = 123\n",
    "street_address = \"anywhere dr\"\n",
    "# comma method\n",
    "print(\"My address is\", street_num, street_address, \".\")"
   ]
  },
  {
   "cell_type": "code",
   "execution_count": 27,
   "id": "a21effa7",
   "metadata": {},
   "outputs": [
    {
     "name": "stdout",
     "output_type": "stream",
     "text": [
      "My street address is 123 anywhere dr.\n"
     ]
    }
   ],
   "source": [
    "# using formatted strings\n",
    "print(\"My street address is {0} {1}.\".format(street_num, street_address))"
   ]
  },
  {
   "cell_type": "code",
   "execution_count": 28,
   "id": "9aab2a1b",
   "metadata": {},
   "outputs": [
    {
     "name": "stdout",
     "output_type": "stream",
     "text": [
      "My street address is 123 anywhere dr.\n"
     ]
    }
   ],
   "source": [
    "# f-string method\n",
    "print(f\"My street address is {street_num} {street_address}.\")"
   ]
  },
  {
   "cell_type": "code",
   "execution_count": 30,
   "id": "eaba57a3",
   "metadata": {},
   "outputs": [
    {
     "name": "stdout",
     "output_type": "stream",
     "text": [
      "My address is 123 anywhere dr.\n"
     ]
    }
   ],
   "source": [
    "# old method\n",
    "print(\"My address is %d %s.\" % (street_num, street_address))"
   ]
  },
  {
   "cell_type": "code",
   "execution_count": 34,
   "id": "f4ab3e57",
   "metadata": {},
   "outputs": [
    {
     "name": "stdout",
     "output_type": "stream",
     "text": [
      "Hello\n",
      "World!\n",
      "Hello World\n"
     ]
    }
   ],
   "source": [
    "# default print adds a carriage return\n",
    "print(\"Hello\")\n",
    "print(\"World!\")\n",
    "print(\"Hello\", end=' ') # changes carriage return to a space\n",
    "print(\"World\")"
   ]
  },
  {
   "cell_type": "code",
   "execution_count": 35,
   "id": "25b174b7",
   "metadata": {},
   "outputs": [
    {
     "name": "stdout",
     "output_type": "stream",
     "text": [
      "Hello\n",
      "World!\n"
     ]
    }
   ],
   "source": [
    "# add more carriage returns\n",
    "print(\"Hello\\nWorld!\")"
   ]
  },
  {
   "cell_type": "code",
   "execution_count": 36,
   "id": "dafc2edc",
   "metadata": {},
   "outputs": [
    {
     "name": "stdout",
     "output_type": "stream",
     "text": [
      "Hello\tWorld\n"
     ]
    }
   ],
   "source": [
    "# add tab characters\n",
    "print(\"Hello\\tWorld\")"
   ]
  },
  {
   "cell_type": "code",
   "execution_count": 41,
   "id": "1ee1135d",
   "metadata": {},
   "outputs": [
    {
     "name": "stdout",
     "output_type": "stream",
     "text": [
      "\"This is a quote\"\n",
      "\"This is a quote\"\n",
      "This has place holders anywhere dr\n",
      "This has no place holders {street_address}\n"
     ]
    }
   ],
   "source": [
    "# escaping characters\n",
    "print(\"\\\"This is a quote\\\"\")\n",
    "print('\"This is a quote\"')\n",
    "print(f\"This has place holders {street_address}\")\n",
    "print('This has no place holders {street_address}')"
   ]
  },
  {
   "cell_type": "code",
   "execution_count": 48,
   "id": "8c1305f8",
   "metadata": {},
   "outputs": [
    {
     "name": "stdout",
     "output_type": "stream",
     "text": [
      "num: 123\n",
      "128\n",
      "126.14159\n"
     ]
    }
   ],
   "source": [
    "# converting between data types\n",
    "num = 123\n",
    "print(\"num: \" + str(num))\n",
    "print(num + int(\"5\"))\n",
    "print(num + float(\"3.14159\"))"
   ]
  },
  {
   "cell_type": "code",
   "execution_count": 52,
   "id": "cd8871f0",
   "metadata": {},
   "outputs": [
    {
     "data": {
      "text/plain": [
       "'123'"
      ]
     },
     "execution_count": 52,
     "metadata": {},
     "output_type": "execute_result"
    }
   ],
   "source": [
    "# get input from the user\n",
    "# \"input\" always returns a string\n",
    "val = input(\"Enter a number:\")\n",
    "val"
   ]
  },
  {
   "cell_type": "code",
   "execution_count": 61,
   "id": "84f11ec7",
   "metadata": {},
   "outputs": [
    {
     "name": "stdout",
     "output_type": "stream",
     "text": [
      "AND: 10011011\n",
      "OR:  11111111\n",
      "XOR: 01100100\n",
      "NOT: -100000000\n",
      "SHL: 11111111000\n",
      "SHR: 00011111\n"
     ]
    }
   ],
   "source": [
    "# bitwise operators\n",
    "\n",
    "bin1 = int('11111111',2)\n",
    "bin2 = int('10011011',2)\n",
    "\n",
    "# AND\n",
    "print(f\"AND: {bin1 & bin2:08b}\")\n",
    "\n",
    "# OR\n",
    "print(f\"OR:  {bin1 | bin2:08b}\")\n",
    "\n",
    "# XOR\n",
    "print(f\"XOR: {bin1 ^ bin2:08b}\")\n",
    "\n",
    "# NOT\n",
    "print(f\"NOT: {~bin1:08b}\")\n",
    "\n",
    "# SHL\n",
    "print(f\"SHL: {bin1 << 3:08b}\")\n",
    "\n",
    "# SHR\n",
    "print(f\"SHR: {bin1 >> 3:08b}\")"
   ]
  },
  {
   "cell_type": "code",
   "execution_count": 63,
   "id": "9895dada",
   "metadata": {},
   "outputs": [
    {
     "name": "stdout",
     "output_type": "stream",
     "text": [
      "F\n",
      "70\n"
     ]
    }
   ],
   "source": [
    "# ASCII\n",
    "\n",
    "# convert from integer to ASCII\n",
    "print(chr(70))\n",
    "\n",
    "# convert from ASCII to integer\n",
    "print(ord('F'))"
   ]
  },
  {
   "cell_type": "code",
   "execution_count": 65,
   "id": "b8e15cc0",
   "metadata": {},
   "outputs": [
    {
     "name": "stdout",
     "output_type": "stream",
     "text": [
      "123 = 0x7b\n",
      "0x7b = 123\n"
     ]
    }
   ],
   "source": [
    "# hexadecimal numbers\n",
    "# 0-9, A-F\n",
    "\n",
    "# convert from decimal to hexadecimal\n",
    "print(f\"123 = {hex(123)}\")\n",
    "\n",
    "# convert from hexadecimal to decimal\n",
    "print(f\"0x7b = {int('0x7b',16)}\")\n"
   ]
  },
  {
   "cell_type": "code",
   "execution_count": 66,
   "id": "ab83abec",
   "metadata": {},
   "outputs": [],
   "source": [
    "# floating point numbers?\n",
    "\n",
    "float = 123.456\n",
    "\n",
    "# floating point numbers use IEEE-754 format\n",
    "# to convert the decimal value to an integer\n",
    "\n"
   ]
  },
  {
   "cell_type": "code",
   "execution_count": 67,
   "id": "a2e8eb08",
   "metadata": {},
   "outputs": [
    {
     "data": {
      "text/plain": [
       "'Hello Hello Hello Hello Hello '"
      ]
     },
     "execution_count": 67,
     "metadata": {},
     "output_type": "execute_result"
    }
   ],
   "source": [
    "# replication operator\n",
    "\"Hello \" * 5"
   ]
  },
  {
   "cell_type": "code",
   "execution_count": 70,
   "id": "091428b9",
   "metadata": {},
   "outputs": [
    {
     "data": {
      "text/plain": [
       "0.0707372016677029"
      ]
     },
     "execution_count": 70,
     "metadata": {},
     "output_type": "execute_result"
    }
   ],
   "source": [
    "from math import cos\n",
    "\n",
    "cos(PI/2)"
   ]
  },
  {
   "cell_type": "code",
   "execution_count": null,
   "id": "efe5faaf",
   "metadata": {},
   "outputs": [],
   "source": []
  }
 ],
 "metadata": {
  "kernelspec": {
   "display_name": "Python 3.10.7 64-bit",
   "language": "python",
   "name": "python3"
  },
  "language_info": {
   "codemirror_mode": {
    "name": "ipython",
    "version": 3
   },
   "file_extension": ".py",
   "mimetype": "text/x-python",
   "name": "python",
   "nbconvert_exporter": "python",
   "pygments_lexer": "ipython3",
   "version": "3.10.7"
  },
  "vscode": {
   "interpreter": {
    "hash": "369f2c481f4da34e4445cda3fffd2e751bd1c4d706f27375911949ba6bb62e1c"
   }
  }
 },
 "nbformat": 4,
 "nbformat_minor": 5
}
