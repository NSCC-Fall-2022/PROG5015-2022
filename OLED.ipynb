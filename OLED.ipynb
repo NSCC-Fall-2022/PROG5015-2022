{
 "cells": [
  {
   "cell_type": "code",
   "execution_count": 1,
   "metadata": {},
   "outputs": [],
   "source": [
    "# standard setup\n",
    "import os\n",
    "os.environ[\"BLINKA_MCP2221\"] = \"1\"\n",
    "os.environ[\"BLINKA_MCP2221_RESET_DELAY\"] = \"1.5\""
   ]
  },
  {
   "cell_type": "code",
   "execution_count": 2,
   "metadata": {},
   "outputs": [
    {
     "data": {
      "text/plain": [
       "['G0',\n",
       " 'G1',\n",
       " 'G2',\n",
       " 'G3',\n",
       " 'I2C',\n",
       " 'SCL',\n",
       " 'SDA',\n",
       " '__blinka__',\n",
       " '__builtins__',\n",
       " '__cached__',\n",
       " '__doc__',\n",
       " '__file__',\n",
       " '__loader__',\n",
       " '__name__',\n",
       " '__package__',\n",
       " '__repo__',\n",
       " '__spec__',\n",
       " '__version__',\n",
       " 'ap_board',\n",
       " 'board_id',\n",
       " 'detector',\n",
       " 'pin',\n",
       " 'sys']"
      ]
     },
     "execution_count": 2,
     "metadata": {},
     "output_type": "execute_result"
    }
   ],
   "source": [
    "# setup MCP2221\n",
    "import board\n",
    "dir(board)"
   ]
  },
  {
   "cell_type": "code",
   "execution_count": 3,
   "metadata": {},
   "outputs": [],
   "source": [
    "# test OLED\n",
    "import board\n",
    "import adafruit_ssd1306\n",
    "\n",
    "# setup MCP2221 I2C communications\n",
    "i2c = board.I2C()\n",
    "oled = adafruit_ssd1306.SSD1306_I2C(128, 32, i2c)\n",
    "\n",
    "# test simple fill\n",
    "oled.fill(1)\n",
    "oled.show()"
   ]
  },
  {
   "cell_type": "code",
   "execution_count": 8,
   "metadata": {},
   "outputs": [],
   "source": [
    "# test OLED\n",
    "import board\n",
    "import adafruit_ssd1306\n",
    "\n",
    "# setup MCP2221 I2C communications\n",
    "i2c = board.I2C()\n",
    "oled = adafruit_ssd1306.SSD1306_I2C(128, 32, i2c)\n",
    "\n",
    "# test text output\n",
    "oled.fill(0)\n",
    "oled.text(\"Hello\", 0, 0, 1, size=2)\n",
    "oled.show()"
   ]
  },
  {
   "cell_type": "code",
   "execution_count": 11,
   "metadata": {},
   "outputs": [],
   "source": [
    "# draw simple lines\n",
    "import board\n",
    "import adafruit_ssd1306\n",
    "\n",
    "# setup MCP2221 I2C communications\n",
    "i2c = board.I2C()\n",
    "oled = adafruit_ssd1306.SSD1306_I2C(128, 32, i2c)\n",
    "\n",
    "# draw a horizontal line\n",
    "oled.fill(0)\n",
    "# line(x1, y1, x2, y2, colour)\n",
    "oled.line(0, 16, 127, 16, 1) # horizontal line\n",
    "oled.line(64, 0, 64, 31, 1)  # vertical line\n",
    "oled.text(\"Hello\", 0, 0, 1)\n",
    "oled.show()"
   ]
  },
  {
   "cell_type": "code",
   "execution_count": 13,
   "metadata": {},
   "outputs": [],
   "source": [
    "import board\n",
    "import adafruit_ssd1306\n",
    "\n",
    "# setup MCP2221 I2C communications\n",
    "i2c = board.I2C()\n",
    "oled = adafruit_ssd1306.SSD1306_I2C(128, 32, i2c)\n",
    "\n",
    "# draw a simple shape\n",
    "oled.fill(0)\n",
    "# line(x1, y1, x2, y2, colour)\n",
    "oled.line(0, 0, 127, 0, 1)      # top horizontal line \n",
    "oled.line(127, 0, 127, 31, 1)   # right vertical line\n",
    "oled.line(127, 31, 0, 31, 1)    # bottom horizontal line \n",
    "oled.line(0, 31, 0, 0, 1)       # left vertical line\n",
    "oled.text(\"PRESS ME\", 44, 12, 1)\n",
    "oled.show()"
   ]
  },
  {
   "cell_type": "code",
   "execution_count": 14,
   "metadata": {},
   "outputs": [],
   "source": [
    "# drawing individual pixels\n",
    "import board\n",
    "import adafruit_ssd1306\n",
    "\n",
    "# setup MCP2221 I2C communications\n",
    "i2c = board.I2C()\n",
    "oled = adafruit_ssd1306.SSD1306_I2C(128, 32, i2c)\n",
    "\n",
    "oled.fill(0)\n",
    "\n",
    "oled.pixel(10, 10, 1)\n",
    "oled.pixel(15, 15, 1)\n",
    "oled.pixel(20, 20, 1)\n",
    "\n",
    "oled.show()"
   ]
  },
  {
   "cell_type": "code",
   "execution_count": null,
   "metadata": {},
   "outputs": [],
   "source": []
  }
 ],
 "metadata": {
  "kernelspec": {
   "display_name": "Python 3.10.7 64-bit",
   "language": "python",
   "name": "python3"
  },
  "language_info": {
   "codemirror_mode": {
    "name": "ipython",
    "version": 3
   },
   "file_extension": ".py",
   "mimetype": "text/x-python",
   "name": "python",
   "nbconvert_exporter": "python",
   "pygments_lexer": "ipython3",
   "version": "3.10.7"
  },
  "orig_nbformat": 4,
  "vscode": {
   "interpreter": {
    "hash": "369f2c481f4da34e4445cda3fffd2e751bd1c4d706f27375911949ba6bb62e1c"
   }
  }
 },
 "nbformat": 4,
 "nbformat_minor": 2
}
