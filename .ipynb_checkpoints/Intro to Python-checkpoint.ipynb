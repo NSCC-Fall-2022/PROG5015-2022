{
 "cells": [
  {
   "cell_type": "markdown",
   "id": "fd5408cb-ec80-4b1a-9a0a-8e1266f3e59f",
   "metadata": {},
   "source": [
    "How to print \"Hello World\" in Python."
   ]
  },
  {
   "cell_type": "code",
   "execution_count": 1,
   "id": "014b8577-523d-4496-a0c4-7b2be50bd6a1",
   "metadata": {},
   "outputs": [
    {
     "name": "stdout",
     "output_type": "stream",
     "text": [
      "Hello World!\n"
     ]
    }
   ],
   "source": [
    "print(\"Hello World!\")"
   ]
  },
  {
   "cell_type": "code",
   "execution_count": null,
   "id": "2571cf05-297d-43c9-91e1-eacd3751c1c2",
   "metadata": {},
   "outputs": [],
   "source": []
  }
 ],
 "metadata": {
  "kernelspec": {
   "display_name": "Python 3 (ipykernel)",
   "language": "python",
   "name": "python3"
  },
  "language_info": {
   "codemirror_mode": {
    "name": "ipython",
    "version": 3
   },
   "file_extension": ".py",
   "mimetype": "text/x-python",
   "name": "python",
   "nbconvert_exporter": "python",
   "pygments_lexer": "ipython3",
   "version": "3.10.7"
  }
 },
 "nbformat": 4,
 "nbformat_minor": 5
}
